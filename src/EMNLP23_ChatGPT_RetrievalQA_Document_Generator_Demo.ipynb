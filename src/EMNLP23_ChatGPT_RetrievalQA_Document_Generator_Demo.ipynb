{
  "nbformat": 4,
  "nbformat_minor": 0,
  "metadata": {
    "colab": {
      "provenance": [],
      "collapsed_sections": [
        "K0Viw02D_piA",
        "76iDBJg_Ot9m",
        "vFjBKFvtnaNG",
        "Ddxuwiacjc4H",
        "IZVtHoHL8qfA"
      ],
      "gpuType": "T4",
      "toc_visible": true
    },
    "kernelspec": {
      "name": "python3",
      "display_name": "Python 3"
    },
    "language_info": {
      "name": "python"
    },
    "accelerator": "GPU",
    "widgets": {
      "application/vnd.jupyter.widget-state+json": {
        "aa4763a9250c4266b6dc8f41046ad113": {
          "model_module": "@jupyter-widgets/controls",
          "model_name": "HBoxModel",
          "model_module_version": "1.5.0",
          "state": {
            "_dom_classes": [],
            "_model_module": "@jupyter-widgets/controls",
            "_model_module_version": "1.5.0",
            "_model_name": "HBoxModel",
            "_view_count": null,
            "_view_module": "@jupyter-widgets/controls",
            "_view_module_version": "1.5.0",
            "_view_name": "HBoxView",
            "box_style": "",
            "children": [
              "IPY_MODEL_b7d5e3b7eb054aaaafb9aacf65e90756",
              "IPY_MODEL_a05ddd339731428b8cf78967ad7b0ba1",
              "IPY_MODEL_8e81bdc8de084687a65f50aaac045aee"
            ],
            "layout": "IPY_MODEL_dcc009ab58cb468e8778067e378bd4f7"
          }
        },
        "b7d5e3b7eb054aaaafb9aacf65e90756": {
          "model_module": "@jupyter-widgets/controls",
          "model_name": "HTMLModel",
          "model_module_version": "1.5.0",
          "state": {
            "_dom_classes": [],
            "_model_module": "@jupyter-widgets/controls",
            "_model_module_version": "1.5.0",
            "_model_name": "HTMLModel",
            "_view_count": null,
            "_view_module": "@jupyter-widgets/controls",
            "_view_module_version": "1.5.0",
            "_view_name": "HTMLView",
            "description": "",
            "description_tooltip": null,
            "layout": "IPY_MODEL_7a06d3cc9e0042dca8e2a4527cc1d829",
            "placeholder": "​",
            "style": "IPY_MODEL_b5eea6db338141d0a921e40a2d196397",
            "value": "Downloading (…)okenizer_config.json: 100%"
          }
        },
        "a05ddd339731428b8cf78967ad7b0ba1": {
          "model_module": "@jupyter-widgets/controls",
          "model_name": "FloatProgressModel",
          "model_module_version": "1.5.0",
          "state": {
            "_dom_classes": [],
            "_model_module": "@jupyter-widgets/controls",
            "_model_module_version": "1.5.0",
            "_model_name": "FloatProgressModel",
            "_view_count": null,
            "_view_module": "@jupyter-widgets/controls",
            "_view_module_version": "1.5.0",
            "_view_name": "ProgressView",
            "bar_style": "success",
            "description": "",
            "description_tooltip": null,
            "layout": "IPY_MODEL_c344b32f3a0b49699b800ffb80fcf98e",
            "max": 222,
            "min": 0,
            "orientation": "horizontal",
            "style": "IPY_MODEL_a997077b79a946ac9ff0df6e490f4826",
            "value": 222
          }
        },
        "8e81bdc8de084687a65f50aaac045aee": {
          "model_module": "@jupyter-widgets/controls",
          "model_name": "HTMLModel",
          "model_module_version": "1.5.0",
          "state": {
            "_dom_classes": [],
            "_model_module": "@jupyter-widgets/controls",
            "_model_module_version": "1.5.0",
            "_model_name": "HTMLModel",
            "_view_count": null,
            "_view_module": "@jupyter-widgets/controls",
            "_view_module_version": "1.5.0",
            "_view_name": "HTMLView",
            "description": "",
            "description_tooltip": null,
            "layout": "IPY_MODEL_850731b50cdb478298003e8baf8a28c5",
            "placeholder": "​",
            "style": "IPY_MODEL_9b449e1621e0404d8ccd0ae938e7fc6d",
            "value": " 222/222 [00:00&lt;00:00, 6.49kB/s]"
          }
        },
        "dcc009ab58cb468e8778067e378bd4f7": {
          "model_module": "@jupyter-widgets/base",
          "model_name": "LayoutModel",
          "model_module_version": "1.2.0",
          "state": {
            "_model_module": "@jupyter-widgets/base",
            "_model_module_version": "1.2.0",
            "_model_name": "LayoutModel",
            "_view_count": null,
            "_view_module": "@jupyter-widgets/base",
            "_view_module_version": "1.2.0",
            "_view_name": "LayoutView",
            "align_content": null,
            "align_items": null,
            "align_self": null,
            "border": null,
            "bottom": null,
            "display": null,
            "flex": null,
            "flex_flow": null,
            "grid_area": null,
            "grid_auto_columns": null,
            "grid_auto_flow": null,
            "grid_auto_rows": null,
            "grid_column": null,
            "grid_gap": null,
            "grid_row": null,
            "grid_template_areas": null,
            "grid_template_columns": null,
            "grid_template_rows": null,
            "height": null,
            "justify_content": null,
            "justify_items": null,
            "left": null,
            "margin": null,
            "max_height": null,
            "max_width": null,
            "min_height": null,
            "min_width": null,
            "object_fit": null,
            "object_position": null,
            "order": null,
            "overflow": null,
            "overflow_x": null,
            "overflow_y": null,
            "padding": null,
            "right": null,
            "top": null,
            "visibility": null,
            "width": null
          }
        },
        "7a06d3cc9e0042dca8e2a4527cc1d829": {
          "model_module": "@jupyter-widgets/base",
          "model_name": "LayoutModel",
          "model_module_version": "1.2.0",
          "state": {
            "_model_module": "@jupyter-widgets/base",
            "_model_module_version": "1.2.0",
            "_model_name": "LayoutModel",
            "_view_count": null,
            "_view_module": "@jupyter-widgets/base",
            "_view_module_version": "1.2.0",
            "_view_name": "LayoutView",
            "align_content": null,
            "align_items": null,
            "align_self": null,
            "border": null,
            "bottom": null,
            "display": null,
            "flex": null,
            "flex_flow": null,
            "grid_area": null,
            "grid_auto_columns": null,
            "grid_auto_flow": null,
            "grid_auto_rows": null,
            "grid_column": null,
            "grid_gap": null,
            "grid_row": null,
            "grid_template_areas": null,
            "grid_template_columns": null,
            "grid_template_rows": null,
            "height": null,
            "justify_content": null,
            "justify_items": null,
            "left": null,
            "margin": null,
            "max_height": null,
            "max_width": null,
            "min_height": null,
            "min_width": null,
            "object_fit": null,
            "object_position": null,
            "order": null,
            "overflow": null,
            "overflow_x": null,
            "overflow_y": null,
            "padding": null,
            "right": null,
            "top": null,
            "visibility": null,
            "width": null
          }
        },
        "b5eea6db338141d0a921e40a2d196397": {
          "model_module": "@jupyter-widgets/controls",
          "model_name": "DescriptionStyleModel",
          "model_module_version": "1.5.0",
          "state": {
            "_model_module": "@jupyter-widgets/controls",
            "_model_module_version": "1.5.0",
            "_model_name": "DescriptionStyleModel",
            "_view_count": null,
            "_view_module": "@jupyter-widgets/base",
            "_view_module_version": "1.2.0",
            "_view_name": "StyleView",
            "description_width": ""
          }
        },
        "c344b32f3a0b49699b800ffb80fcf98e": {
          "model_module": "@jupyter-widgets/base",
          "model_name": "LayoutModel",
          "model_module_version": "1.2.0",
          "state": {
            "_model_module": "@jupyter-widgets/base",
            "_model_module_version": "1.2.0",
            "_model_name": "LayoutModel",
            "_view_count": null,
            "_view_module": "@jupyter-widgets/base",
            "_view_module_version": "1.2.0",
            "_view_name": "LayoutView",
            "align_content": null,
            "align_items": null,
            "align_self": null,
            "border": null,
            "bottom": null,
            "display": null,
            "flex": null,
            "flex_flow": null,
            "grid_area": null,
            "grid_auto_columns": null,
            "grid_auto_flow": null,
            "grid_auto_rows": null,
            "grid_column": null,
            "grid_gap": null,
            "grid_row": null,
            "grid_template_areas": null,
            "grid_template_columns": null,
            "grid_template_rows": null,
            "height": null,
            "justify_content": null,
            "justify_items": null,
            "left": null,
            "margin": null,
            "max_height": null,
            "max_width": null,
            "min_height": null,
            "min_width": null,
            "object_fit": null,
            "object_position": null,
            "order": null,
            "overflow": null,
            "overflow_x": null,
            "overflow_y": null,
            "padding": null,
            "right": null,
            "top": null,
            "visibility": null,
            "width": null
          }
        },
        "a997077b79a946ac9ff0df6e490f4826": {
          "model_module": "@jupyter-widgets/controls",
          "model_name": "ProgressStyleModel",
          "model_module_version": "1.5.0",
          "state": {
            "_model_module": "@jupyter-widgets/controls",
            "_model_module_version": "1.5.0",
            "_model_name": "ProgressStyleModel",
            "_view_count": null,
            "_view_module": "@jupyter-widgets/base",
            "_view_module_version": "1.2.0",
            "_view_name": "StyleView",
            "bar_color": null,
            "description_width": ""
          }
        },
        "850731b50cdb478298003e8baf8a28c5": {
          "model_module": "@jupyter-widgets/base",
          "model_name": "LayoutModel",
          "model_module_version": "1.2.0",
          "state": {
            "_model_module": "@jupyter-widgets/base",
            "_model_module_version": "1.2.0",
            "_model_name": "LayoutModel",
            "_view_count": null,
            "_view_module": "@jupyter-widgets/base",
            "_view_module_version": "1.2.0",
            "_view_name": "LayoutView",
            "align_content": null,
            "align_items": null,
            "align_self": null,
            "border": null,
            "bottom": null,
            "display": null,
            "flex": null,
            "flex_flow": null,
            "grid_area": null,
            "grid_auto_columns": null,
            "grid_auto_flow": null,
            "grid_auto_rows": null,
            "grid_column": null,
            "grid_gap": null,
            "grid_row": null,
            "grid_template_areas": null,
            "grid_template_columns": null,
            "grid_template_rows": null,
            "height": null,
            "justify_content": null,
            "justify_items": null,
            "left": null,
            "margin": null,
            "max_height": null,
            "max_width": null,
            "min_height": null,
            "min_width": null,
            "object_fit": null,
            "object_position": null,
            "order": null,
            "overflow": null,
            "overflow_x": null,
            "overflow_y": null,
            "padding": null,
            "right": null,
            "top": null,
            "visibility": null,
            "width": null
          }
        },
        "9b449e1621e0404d8ccd0ae938e7fc6d": {
          "model_module": "@jupyter-widgets/controls",
          "model_name": "DescriptionStyleModel",
          "model_module_version": "1.5.0",
          "state": {
            "_model_module": "@jupyter-widgets/controls",
            "_model_module_version": "1.5.0",
            "_model_name": "DescriptionStyleModel",
            "_view_count": null,
            "_view_module": "@jupyter-widgets/base",
            "_view_module_version": "1.2.0",
            "_view_name": "StyleView",
            "description_width": ""
          }
        },
        "02937d77ae4f496c843c0cee94c3cf6d": {
          "model_module": "@jupyter-widgets/controls",
          "model_name": "HBoxModel",
          "model_module_version": "1.5.0",
          "state": {
            "_dom_classes": [],
            "_model_module": "@jupyter-widgets/controls",
            "_model_module_version": "1.5.0",
            "_model_name": "HBoxModel",
            "_view_count": null,
            "_view_module": "@jupyter-widgets/controls",
            "_view_module_version": "1.5.0",
            "_view_name": "HBoxView",
            "box_style": "",
            "children": [
              "IPY_MODEL_006d485e25f54444bda93570560f65cc",
              "IPY_MODEL_07e4ccb1c0bd4ffe9b7106b0e801335e",
              "IPY_MODEL_854158a0505a421380903a87f010e255"
            ],
            "layout": "IPY_MODEL_502d69e63b9048769d7b386c0ee9bbd6"
          }
        },
        "006d485e25f54444bda93570560f65cc": {
          "model_module": "@jupyter-widgets/controls",
          "model_name": "HTMLModel",
          "model_module_version": "1.5.0",
          "state": {
            "_dom_classes": [],
            "_model_module": "@jupyter-widgets/controls",
            "_model_module_version": "1.5.0",
            "_model_name": "HTMLModel",
            "_view_count": null,
            "_view_module": "@jupyter-widgets/controls",
            "_view_module_version": "1.5.0",
            "_view_name": "HTMLView",
            "description": "",
            "description_tooltip": null,
            "layout": "IPY_MODEL_4a210fc0f7ff45f8ab79454216b70e1a",
            "placeholder": "​",
            "style": "IPY_MODEL_2208221ad4e4473bb478be3d2538ec1b",
            "value": "Downloading tokenizer.json: 100%"
          }
        },
        "07e4ccb1c0bd4ffe9b7106b0e801335e": {
          "model_module": "@jupyter-widgets/controls",
          "model_name": "FloatProgressModel",
          "model_module_version": "1.5.0",
          "state": {
            "_dom_classes": [],
            "_model_module": "@jupyter-widgets/controls",
            "_model_module_version": "1.5.0",
            "_model_name": "FloatProgressModel",
            "_view_count": null,
            "_view_module": "@jupyter-widgets/controls",
            "_view_module_version": "1.5.0",
            "_view_name": "ProgressView",
            "bar_style": "success",
            "description": "",
            "description_tooltip": null,
            "layout": "IPY_MODEL_dcb1d4409e024db7a9f9b904409bad71",
            "max": 14500438,
            "min": 0,
            "orientation": "horizontal",
            "style": "IPY_MODEL_ffa72ff731a9423392a48b96a918dc56",
            "value": 14500438
          }
        },
        "854158a0505a421380903a87f010e255": {
          "model_module": "@jupyter-widgets/controls",
          "model_name": "HTMLModel",
          "model_module_version": "1.5.0",
          "state": {
            "_dom_classes": [],
            "_model_module": "@jupyter-widgets/controls",
            "_model_module_version": "1.5.0",
            "_model_name": "HTMLModel",
            "_view_count": null,
            "_view_module": "@jupyter-widgets/controls",
            "_view_module_version": "1.5.0",
            "_view_name": "HTMLView",
            "description": "",
            "description_tooltip": null,
            "layout": "IPY_MODEL_a77afa520742465fa2c63b8f6a0c82af",
            "placeholder": "​",
            "style": "IPY_MODEL_6bd070b97f8f41a09a3d27c0ffadebcf",
            "value": " 14.5M/14.5M [00:00&lt;00:00, 82.8MB/s]"
          }
        },
        "502d69e63b9048769d7b386c0ee9bbd6": {
          "model_module": "@jupyter-widgets/base",
          "model_name": "LayoutModel",
          "model_module_version": "1.2.0",
          "state": {
            "_model_module": "@jupyter-widgets/base",
            "_model_module_version": "1.2.0",
            "_model_name": "LayoutModel",
            "_view_count": null,
            "_view_module": "@jupyter-widgets/base",
            "_view_module_version": "1.2.0",
            "_view_name": "LayoutView",
            "align_content": null,
            "align_items": null,
            "align_self": null,
            "border": null,
            "bottom": null,
            "display": null,
            "flex": null,
            "flex_flow": null,
            "grid_area": null,
            "grid_auto_columns": null,
            "grid_auto_flow": null,
            "grid_auto_rows": null,
            "grid_column": null,
            "grid_gap": null,
            "grid_row": null,
            "grid_template_areas": null,
            "grid_template_columns": null,
            "grid_template_rows": null,
            "height": null,
            "justify_content": null,
            "justify_items": null,
            "left": null,
            "margin": null,
            "max_height": null,
            "max_width": null,
            "min_height": null,
            "min_width": null,
            "object_fit": null,
            "object_position": null,
            "order": null,
            "overflow": null,
            "overflow_x": null,
            "overflow_y": null,
            "padding": null,
            "right": null,
            "top": null,
            "visibility": null,
            "width": null
          }
        },
        "4a210fc0f7ff45f8ab79454216b70e1a": {
          "model_module": "@jupyter-widgets/base",
          "model_name": "LayoutModel",
          "model_module_version": "1.2.0",
          "state": {
            "_model_module": "@jupyter-widgets/base",
            "_model_module_version": "1.2.0",
            "_model_name": "LayoutModel",
            "_view_count": null,
            "_view_module": "@jupyter-widgets/base",
            "_view_module_version": "1.2.0",
            "_view_name": "LayoutView",
            "align_content": null,
            "align_items": null,
            "align_self": null,
            "border": null,
            "bottom": null,
            "display": null,
            "flex": null,
            "flex_flow": null,
            "grid_area": null,
            "grid_auto_columns": null,
            "grid_auto_flow": null,
            "grid_auto_rows": null,
            "grid_column": null,
            "grid_gap": null,
            "grid_row": null,
            "grid_template_areas": null,
            "grid_template_columns": null,
            "grid_template_rows": null,
            "height": null,
            "justify_content": null,
            "justify_items": null,
            "left": null,
            "margin": null,
            "max_height": null,
            "max_width": null,
            "min_height": null,
            "min_width": null,
            "object_fit": null,
            "object_position": null,
            "order": null,
            "overflow": null,
            "overflow_x": null,
            "overflow_y": null,
            "padding": null,
            "right": null,
            "top": null,
            "visibility": null,
            "width": null
          }
        },
        "2208221ad4e4473bb478be3d2538ec1b": {
          "model_module": "@jupyter-widgets/controls",
          "model_name": "DescriptionStyleModel",
          "model_module_version": "1.5.0",
          "state": {
            "_model_module": "@jupyter-widgets/controls",
            "_model_module_version": "1.5.0",
            "_model_name": "DescriptionStyleModel",
            "_view_count": null,
            "_view_module": "@jupyter-widgets/base",
            "_view_module_version": "1.2.0",
            "_view_name": "StyleView",
            "description_width": ""
          }
        },
        "dcb1d4409e024db7a9f9b904409bad71": {
          "model_module": "@jupyter-widgets/base",
          "model_name": "LayoutModel",
          "model_module_version": "1.2.0",
          "state": {
            "_model_module": "@jupyter-widgets/base",
            "_model_module_version": "1.2.0",
            "_model_name": "LayoutModel",
            "_view_count": null,
            "_view_module": "@jupyter-widgets/base",
            "_view_module_version": "1.2.0",
            "_view_name": "LayoutView",
            "align_content": null,
            "align_items": null,
            "align_self": null,
            "border": null,
            "bottom": null,
            "display": null,
            "flex": null,
            "flex_flow": null,
            "grid_area": null,
            "grid_auto_columns": null,
            "grid_auto_flow": null,
            "grid_auto_rows": null,
            "grid_column": null,
            "grid_gap": null,
            "grid_row": null,
            "grid_template_areas": null,
            "grid_template_columns": null,
            "grid_template_rows": null,
            "height": null,
            "justify_content": null,
            "justify_items": null,
            "left": null,
            "margin": null,
            "max_height": null,
            "max_width": null,
            "min_height": null,
            "min_width": null,
            "object_fit": null,
            "object_position": null,
            "order": null,
            "overflow": null,
            "overflow_x": null,
            "overflow_y": null,
            "padding": null,
            "right": null,
            "top": null,
            "visibility": null,
            "width": null
          }
        },
        "ffa72ff731a9423392a48b96a918dc56": {
          "model_module": "@jupyter-widgets/controls",
          "model_name": "ProgressStyleModel",
          "model_module_version": "1.5.0",
          "state": {
            "_model_module": "@jupyter-widgets/controls",
            "_model_module_version": "1.5.0",
            "_model_name": "ProgressStyleModel",
            "_view_count": null,
            "_view_module": "@jupyter-widgets/base",
            "_view_module_version": "1.2.0",
            "_view_name": "StyleView",
            "bar_color": null,
            "description_width": ""
          }
        },
        "a77afa520742465fa2c63b8f6a0c82af": {
          "model_module": "@jupyter-widgets/base",
          "model_name": "LayoutModel",
          "model_module_version": "1.2.0",
          "state": {
            "_model_module": "@jupyter-widgets/base",
            "_model_module_version": "1.2.0",
            "_model_name": "LayoutModel",
            "_view_count": null,
            "_view_module": "@jupyter-widgets/base",
            "_view_module_version": "1.2.0",
            "_view_name": "LayoutView",
            "align_content": null,
            "align_items": null,
            "align_self": null,
            "border": null,
            "bottom": null,
            "display": null,
            "flex": null,
            "flex_flow": null,
            "grid_area": null,
            "grid_auto_columns": null,
            "grid_auto_flow": null,
            "grid_auto_rows": null,
            "grid_column": null,
            "grid_gap": null,
            "grid_row": null,
            "grid_template_areas": null,
            "grid_template_columns": null,
            "grid_template_rows": null,
            "height": null,
            "justify_content": null,
            "justify_items": null,
            "left": null,
            "margin": null,
            "max_height": null,
            "max_width": null,
            "min_height": null,
            "min_width": null,
            "object_fit": null,
            "object_position": null,
            "order": null,
            "overflow": null,
            "overflow_x": null,
            "overflow_y": null,
            "padding": null,
            "right": null,
            "top": null,
            "visibility": null,
            "width": null
          }
        },
        "6bd070b97f8f41a09a3d27c0ffadebcf": {
          "model_module": "@jupyter-widgets/controls",
          "model_name": "DescriptionStyleModel",
          "model_module_version": "1.5.0",
          "state": {
            "_model_module": "@jupyter-widgets/controls",
            "_model_module_version": "1.5.0",
            "_model_name": "DescriptionStyleModel",
            "_view_count": null,
            "_view_module": "@jupyter-widgets/base",
            "_view_module_version": "1.2.0",
            "_view_name": "StyleView",
            "description_width": ""
          }
        },
        "95b4b2bb8db941d98abe3eefdd94b3cf": {
          "model_module": "@jupyter-widgets/controls",
          "model_name": "HBoxModel",
          "model_module_version": "1.5.0",
          "state": {
            "_dom_classes": [],
            "_model_module": "@jupyter-widgets/controls",
            "_model_module_version": "1.5.0",
            "_model_name": "HBoxModel",
            "_view_count": null,
            "_view_module": "@jupyter-widgets/controls",
            "_view_module_version": "1.5.0",
            "_view_name": "HBoxView",
            "box_style": "",
            "children": [
              "IPY_MODEL_793f2c8a06e64de384c5ac8a164e57ee",
              "IPY_MODEL_49b7bf1eed274f41901f438d996d8650",
              "IPY_MODEL_b4010166edad422286e8c5e9ff537f5c"
            ],
            "layout": "IPY_MODEL_390e40b746234192a06690fee444f1c3"
          }
        },
        "793f2c8a06e64de384c5ac8a164e57ee": {
          "model_module": "@jupyter-widgets/controls",
          "model_name": "HTMLModel",
          "model_module_version": "1.5.0",
          "state": {
            "_dom_classes": [],
            "_model_module": "@jupyter-widgets/controls",
            "_model_module_version": "1.5.0",
            "_model_name": "HTMLModel",
            "_view_count": null,
            "_view_module": "@jupyter-widgets/controls",
            "_view_module_version": "1.5.0",
            "_view_name": "HTMLView",
            "description": "",
            "description_tooltip": null,
            "layout": "IPY_MODEL_4800dff32dc2442ea1ea40d330645b1e",
            "placeholder": "​",
            "style": "IPY_MODEL_77f15e787cf04fea9e15f575183218bc",
            "value": "Downloading (…)cial_tokens_map.json: 100%"
          }
        },
        "49b7bf1eed274f41901f438d996d8650": {
          "model_module": "@jupyter-widgets/controls",
          "model_name": "FloatProgressModel",
          "model_module_version": "1.5.0",
          "state": {
            "_dom_classes": [],
            "_model_module": "@jupyter-widgets/controls",
            "_model_module_version": "1.5.0",
            "_model_name": "FloatProgressModel",
            "_view_count": null,
            "_view_module": "@jupyter-widgets/controls",
            "_view_module_version": "1.5.0",
            "_view_name": "ProgressView",
            "bar_style": "success",
            "description": "",
            "description_tooltip": null,
            "layout": "IPY_MODEL_f06ea40ff6834d509bcfaaf9e7dea935",
            "max": 85,
            "min": 0,
            "orientation": "horizontal",
            "style": "IPY_MODEL_242f237a53574c40b2b2f2ae76266141",
            "value": 85
          }
        },
        "b4010166edad422286e8c5e9ff537f5c": {
          "model_module": "@jupyter-widgets/controls",
          "model_name": "HTMLModel",
          "model_module_version": "1.5.0",
          "state": {
            "_dom_classes": [],
            "_model_module": "@jupyter-widgets/controls",
            "_model_module_version": "1.5.0",
            "_model_name": "HTMLModel",
            "_view_count": null,
            "_view_module": "@jupyter-widgets/controls",
            "_view_module_version": "1.5.0",
            "_view_name": "HTMLView",
            "description": "",
            "description_tooltip": null,
            "layout": "IPY_MODEL_24fca9bb6ec14d79ae078ecb04a91e62",
            "placeholder": "​",
            "style": "IPY_MODEL_f7a5f020b7154c1bb97d258a1efd4370",
            "value": " 85.0/85.0 [00:00&lt;00:00, 2.17kB/s]"
          }
        },
        "390e40b746234192a06690fee444f1c3": {
          "model_module": "@jupyter-widgets/base",
          "model_name": "LayoutModel",
          "model_module_version": "1.2.0",
          "state": {
            "_model_module": "@jupyter-widgets/base",
            "_model_module_version": "1.2.0",
            "_model_name": "LayoutModel",
            "_view_count": null,
            "_view_module": "@jupyter-widgets/base",
            "_view_module_version": "1.2.0",
            "_view_name": "LayoutView",
            "align_content": null,
            "align_items": null,
            "align_self": null,
            "border": null,
            "bottom": null,
            "display": null,
            "flex": null,
            "flex_flow": null,
            "grid_area": null,
            "grid_auto_columns": null,
            "grid_auto_flow": null,
            "grid_auto_rows": null,
            "grid_column": null,
            "grid_gap": null,
            "grid_row": null,
            "grid_template_areas": null,
            "grid_template_columns": null,
            "grid_template_rows": null,
            "height": null,
            "justify_content": null,
            "justify_items": null,
            "left": null,
            "margin": null,
            "max_height": null,
            "max_width": null,
            "min_height": null,
            "min_width": null,
            "object_fit": null,
            "object_position": null,
            "order": null,
            "overflow": null,
            "overflow_x": null,
            "overflow_y": null,
            "padding": null,
            "right": null,
            "top": null,
            "visibility": null,
            "width": null
          }
        },
        "4800dff32dc2442ea1ea40d330645b1e": {
          "model_module": "@jupyter-widgets/base",
          "model_name": "LayoutModel",
          "model_module_version": "1.2.0",
          "state": {
            "_model_module": "@jupyter-widgets/base",
            "_model_module_version": "1.2.0",
            "_model_name": "LayoutModel",
            "_view_count": null,
            "_view_module": "@jupyter-widgets/base",
            "_view_module_version": "1.2.0",
            "_view_name": "LayoutView",
            "align_content": null,
            "align_items": null,
            "align_self": null,
            "border": null,
            "bottom": null,
            "display": null,
            "flex": null,
            "flex_flow": null,
            "grid_area": null,
            "grid_auto_columns": null,
            "grid_auto_flow": null,
            "grid_auto_rows": null,
            "grid_column": null,
            "grid_gap": null,
            "grid_row": null,
            "grid_template_areas": null,
            "grid_template_columns": null,
            "grid_template_rows": null,
            "height": null,
            "justify_content": null,
            "justify_items": null,
            "left": null,
            "margin": null,
            "max_height": null,
            "max_width": null,
            "min_height": null,
            "min_width": null,
            "object_fit": null,
            "object_position": null,
            "order": null,
            "overflow": null,
            "overflow_x": null,
            "overflow_y": null,
            "padding": null,
            "right": null,
            "top": null,
            "visibility": null,
            "width": null
          }
        },
        "77f15e787cf04fea9e15f575183218bc": {
          "model_module": "@jupyter-widgets/controls",
          "model_name": "DescriptionStyleModel",
          "model_module_version": "1.5.0",
          "state": {
            "_model_module": "@jupyter-widgets/controls",
            "_model_module_version": "1.5.0",
            "_model_name": "DescriptionStyleModel",
            "_view_count": null,
            "_view_module": "@jupyter-widgets/base",
            "_view_module_version": "1.2.0",
            "_view_name": "StyleView",
            "description_width": ""
          }
        },
        "f06ea40ff6834d509bcfaaf9e7dea935": {
          "model_module": "@jupyter-widgets/base",
          "model_name": "LayoutModel",
          "model_module_version": "1.2.0",
          "state": {
            "_model_module": "@jupyter-widgets/base",
            "_model_module_version": "1.2.0",
            "_model_name": "LayoutModel",
            "_view_count": null,
            "_view_module": "@jupyter-widgets/base",
            "_view_module_version": "1.2.0",
            "_view_name": "LayoutView",
            "align_content": null,
            "align_items": null,
            "align_self": null,
            "border": null,
            "bottom": null,
            "display": null,
            "flex": null,
            "flex_flow": null,
            "grid_area": null,
            "grid_auto_columns": null,
            "grid_auto_flow": null,
            "grid_auto_rows": null,
            "grid_column": null,
            "grid_gap": null,
            "grid_row": null,
            "grid_template_areas": null,
            "grid_template_columns": null,
            "grid_template_rows": null,
            "height": null,
            "justify_content": null,
            "justify_items": null,
            "left": null,
            "margin": null,
            "max_height": null,
            "max_width": null,
            "min_height": null,
            "min_width": null,
            "object_fit": null,
            "object_position": null,
            "order": null,
            "overflow": null,
            "overflow_x": null,
            "overflow_y": null,
            "padding": null,
            "right": null,
            "top": null,
            "visibility": null,
            "width": null
          }
        },
        "242f237a53574c40b2b2f2ae76266141": {
          "model_module": "@jupyter-widgets/controls",
          "model_name": "ProgressStyleModel",
          "model_module_version": "1.5.0",
          "state": {
            "_model_module": "@jupyter-widgets/controls",
            "_model_module_version": "1.5.0",
            "_model_name": "ProgressStyleModel",
            "_view_count": null,
            "_view_module": "@jupyter-widgets/base",
            "_view_module_version": "1.2.0",
            "_view_name": "StyleView",
            "bar_color": null,
            "description_width": ""
          }
        },
        "24fca9bb6ec14d79ae078ecb04a91e62": {
          "model_module": "@jupyter-widgets/base",
          "model_name": "LayoutModel",
          "model_module_version": "1.2.0",
          "state": {
            "_model_module": "@jupyter-widgets/base",
            "_model_module_version": "1.2.0",
            "_model_name": "LayoutModel",
            "_view_count": null,
            "_view_module": "@jupyter-widgets/base",
            "_view_module_version": "1.2.0",
            "_view_name": "LayoutView",
            "align_content": null,
            "align_items": null,
            "align_self": null,
            "border": null,
            "bottom": null,
            "display": null,
            "flex": null,
            "flex_flow": null,
            "grid_area": null,
            "grid_auto_columns": null,
            "grid_auto_flow": null,
            "grid_auto_rows": null,
            "grid_column": null,
            "grid_gap": null,
            "grid_row": null,
            "grid_template_areas": null,
            "grid_template_columns": null,
            "grid_template_rows": null,
            "height": null,
            "justify_content": null,
            "justify_items": null,
            "left": null,
            "margin": null,
            "max_height": null,
            "max_width": null,
            "min_height": null,
            "min_width": null,
            "object_fit": null,
            "object_position": null,
            "order": null,
            "overflow": null,
            "overflow_x": null,
            "overflow_y": null,
            "padding": null,
            "right": null,
            "top": null,
            "visibility": null,
            "width": null
          }
        },
        "f7a5f020b7154c1bb97d258a1efd4370": {
          "model_module": "@jupyter-widgets/controls",
          "model_name": "DescriptionStyleModel",
          "model_module_version": "1.5.0",
          "state": {
            "_model_module": "@jupyter-widgets/controls",
            "_model_module_version": "1.5.0",
            "_model_name": "DescriptionStyleModel",
            "_view_count": null,
            "_view_module": "@jupyter-widgets/base",
            "_view_module_version": "1.2.0",
            "_view_name": "StyleView",
            "description_width": ""
          }
        },
        "d01c4ed790c945ca9d1390a8586dcf11": {
          "model_module": "@jupyter-widgets/controls",
          "model_name": "HBoxModel",
          "model_module_version": "1.5.0",
          "state": {
            "_dom_classes": [],
            "_model_module": "@jupyter-widgets/controls",
            "_model_module_version": "1.5.0",
            "_model_name": "HBoxModel",
            "_view_count": null,
            "_view_module": "@jupyter-widgets/controls",
            "_view_module_version": "1.5.0",
            "_view_name": "HBoxView",
            "box_style": "",
            "children": [
              "IPY_MODEL_96023f652dac4606869cb854f8a58545",
              "IPY_MODEL_844f75aa8b634091aef11e23351de552",
              "IPY_MODEL_2cec3dc1284248b5957d4116c45fe52d"
            ],
            "layout": "IPY_MODEL_ce61b68ed67f4c2782de2881e0c8d09c"
          }
        },
        "96023f652dac4606869cb854f8a58545": {
          "model_module": "@jupyter-widgets/controls",
          "model_name": "HTMLModel",
          "model_module_version": "1.5.0",
          "state": {
            "_dom_classes": [],
            "_model_module": "@jupyter-widgets/controls",
            "_model_module_version": "1.5.0",
            "_model_name": "HTMLModel",
            "_view_count": null,
            "_view_module": "@jupyter-widgets/controls",
            "_view_module_version": "1.5.0",
            "_view_name": "HTMLView",
            "description": "",
            "description_tooltip": null,
            "layout": "IPY_MODEL_ca2946e7c8b84193a440b667a8c0e550",
            "placeholder": "​",
            "style": "IPY_MODEL_4a06ab4c25db4ec5bb79b051a75d61fd",
            "value": "Downloading (…)lve/main/config.json: 100%"
          }
        },
        "844f75aa8b634091aef11e23351de552": {
          "model_module": "@jupyter-widgets/controls",
          "model_name": "FloatProgressModel",
          "model_module_version": "1.5.0",
          "state": {
            "_dom_classes": [],
            "_model_module": "@jupyter-widgets/controls",
            "_model_module_version": "1.5.0",
            "_model_name": "FloatProgressModel",
            "_view_count": null,
            "_view_module": "@jupyter-widgets/controls",
            "_view_module_version": "1.5.0",
            "_view_name": "ProgressView",
            "bar_style": "success",
            "description": "",
            "description_tooltip": null,
            "layout": "IPY_MODEL_eff1d3548d9649a38dccfa3090bf1b8f",
            "max": 693,
            "min": 0,
            "orientation": "horizontal",
            "style": "IPY_MODEL_4074852bd1b344f1bfcfcffa5aaf90c7",
            "value": 693
          }
        },
        "2cec3dc1284248b5957d4116c45fe52d": {
          "model_module": "@jupyter-widgets/controls",
          "model_name": "HTMLModel",
          "model_module_version": "1.5.0",
          "state": {
            "_dom_classes": [],
            "_model_module": "@jupyter-widgets/controls",
            "_model_module_version": "1.5.0",
            "_model_name": "HTMLModel",
            "_view_count": null,
            "_view_module": "@jupyter-widgets/controls",
            "_view_module_version": "1.5.0",
            "_view_name": "HTMLView",
            "description": "",
            "description_tooltip": null,
            "layout": "IPY_MODEL_df3e3ce01d4145418c8cc0497bd282e2",
            "placeholder": "​",
            "style": "IPY_MODEL_0585f997a9ef4c689fd35a4ead06cdf0",
            "value": " 693/693 [00:00&lt;00:00, 12.8kB/s]"
          }
        },
        "ce61b68ed67f4c2782de2881e0c8d09c": {
          "model_module": "@jupyter-widgets/base",
          "model_name": "LayoutModel",
          "model_module_version": "1.2.0",
          "state": {
            "_model_module": "@jupyter-widgets/base",
            "_model_module_version": "1.2.0",
            "_model_name": "LayoutModel",
            "_view_count": null,
            "_view_module": "@jupyter-widgets/base",
            "_view_module_version": "1.2.0",
            "_view_name": "LayoutView",
            "align_content": null,
            "align_items": null,
            "align_self": null,
            "border": null,
            "bottom": null,
            "display": null,
            "flex": null,
            "flex_flow": null,
            "grid_area": null,
            "grid_auto_columns": null,
            "grid_auto_flow": null,
            "grid_auto_rows": null,
            "grid_column": null,
            "grid_gap": null,
            "grid_row": null,
            "grid_template_areas": null,
            "grid_template_columns": null,
            "grid_template_rows": null,
            "height": null,
            "justify_content": null,
            "justify_items": null,
            "left": null,
            "margin": null,
            "max_height": null,
            "max_width": null,
            "min_height": null,
            "min_width": null,
            "object_fit": null,
            "object_position": null,
            "order": null,
            "overflow": null,
            "overflow_x": null,
            "overflow_y": null,
            "padding": null,
            "right": null,
            "top": null,
            "visibility": null,
            "width": null
          }
        },
        "ca2946e7c8b84193a440b667a8c0e550": {
          "model_module": "@jupyter-widgets/base",
          "model_name": "LayoutModel",
          "model_module_version": "1.2.0",
          "state": {
            "_model_module": "@jupyter-widgets/base",
            "_model_module_version": "1.2.0",
            "_model_name": "LayoutModel",
            "_view_count": null,
            "_view_module": "@jupyter-widgets/base",
            "_view_module_version": "1.2.0",
            "_view_name": "LayoutView",
            "align_content": null,
            "align_items": null,
            "align_self": null,
            "border": null,
            "bottom": null,
            "display": null,
            "flex": null,
            "flex_flow": null,
            "grid_area": null,
            "grid_auto_columns": null,
            "grid_auto_flow": null,
            "grid_auto_rows": null,
            "grid_column": null,
            "grid_gap": null,
            "grid_row": null,
            "grid_template_areas": null,
            "grid_template_columns": null,
            "grid_template_rows": null,
            "height": null,
            "justify_content": null,
            "justify_items": null,
            "left": null,
            "margin": null,
            "max_height": null,
            "max_width": null,
            "min_height": null,
            "min_width": null,
            "object_fit": null,
            "object_position": null,
            "order": null,
            "overflow": null,
            "overflow_x": null,
            "overflow_y": null,
            "padding": null,
            "right": null,
            "top": null,
            "visibility": null,
            "width": null
          }
        },
        "4a06ab4c25db4ec5bb79b051a75d61fd": {
          "model_module": "@jupyter-widgets/controls",
          "model_name": "DescriptionStyleModel",
          "model_module_version": "1.5.0",
          "state": {
            "_model_module": "@jupyter-widgets/controls",
            "_model_module_version": "1.5.0",
            "_model_name": "DescriptionStyleModel",
            "_view_count": null,
            "_view_module": "@jupyter-widgets/base",
            "_view_module_version": "1.2.0",
            "_view_name": "StyleView",
            "description_width": ""
          }
        },
        "eff1d3548d9649a38dccfa3090bf1b8f": {
          "model_module": "@jupyter-widgets/base",
          "model_name": "LayoutModel",
          "model_module_version": "1.2.0",
          "state": {
            "_model_module": "@jupyter-widgets/base",
            "_model_module_version": "1.2.0",
            "_model_name": "LayoutModel",
            "_view_count": null,
            "_view_module": "@jupyter-widgets/base",
            "_view_module_version": "1.2.0",
            "_view_name": "LayoutView",
            "align_content": null,
            "align_items": null,
            "align_self": null,
            "border": null,
            "bottom": null,
            "display": null,
            "flex": null,
            "flex_flow": null,
            "grid_area": null,
            "grid_auto_columns": null,
            "grid_auto_flow": null,
            "grid_auto_rows": null,
            "grid_column": null,
            "grid_gap": null,
            "grid_row": null,
            "grid_template_areas": null,
            "grid_template_columns": null,
            "grid_template_rows": null,
            "height": null,
            "justify_content": null,
            "justify_items": null,
            "left": null,
            "margin": null,
            "max_height": null,
            "max_width": null,
            "min_height": null,
            "min_width": null,
            "object_fit": null,
            "object_position": null,
            "order": null,
            "overflow": null,
            "overflow_x": null,
            "overflow_y": null,
            "padding": null,
            "right": null,
            "top": null,
            "visibility": null,
            "width": null
          }
        },
        "4074852bd1b344f1bfcfcffa5aaf90c7": {
          "model_module": "@jupyter-widgets/controls",
          "model_name": "ProgressStyleModel",
          "model_module_version": "1.5.0",
          "state": {
            "_model_module": "@jupyter-widgets/controls",
            "_model_module_version": "1.5.0",
            "_model_name": "ProgressStyleModel",
            "_view_count": null,
            "_view_module": "@jupyter-widgets/base",
            "_view_module_version": "1.2.0",
            "_view_name": "StyleView",
            "bar_color": null,
            "description_width": ""
          }
        },
        "df3e3ce01d4145418c8cc0497bd282e2": {
          "model_module": "@jupyter-widgets/base",
          "model_name": "LayoutModel",
          "model_module_version": "1.2.0",
          "state": {
            "_model_module": "@jupyter-widgets/base",
            "_model_module_version": "1.2.0",
            "_model_name": "LayoutModel",
            "_view_count": null,
            "_view_module": "@jupyter-widgets/base",
            "_view_module_version": "1.2.0",
            "_view_name": "LayoutView",
            "align_content": null,
            "align_items": null,
            "align_self": null,
            "border": null,
            "bottom": null,
            "display": null,
            "flex": null,
            "flex_flow": null,
            "grid_area": null,
            "grid_auto_columns": null,
            "grid_auto_flow": null,
            "grid_auto_rows": null,
            "grid_column": null,
            "grid_gap": null,
            "grid_row": null,
            "grid_template_areas": null,
            "grid_template_columns": null,
            "grid_template_rows": null,
            "height": null,
            "justify_content": null,
            "justify_items": null,
            "left": null,
            "margin": null,
            "max_height": null,
            "max_width": null,
            "min_height": null,
            "min_width": null,
            "object_fit": null,
            "object_position": null,
            "order": null,
            "overflow": null,
            "overflow_x": null,
            "overflow_y": null,
            "padding": null,
            "right": null,
            "top": null,
            "visibility": null,
            "width": null
          }
        },
        "0585f997a9ef4c689fd35a4ead06cdf0": {
          "model_module": "@jupyter-widgets/controls",
          "model_name": "DescriptionStyleModel",
          "model_module_version": "1.5.0",
          "state": {
            "_model_module": "@jupyter-widgets/controls",
            "_model_module_version": "1.5.0",
            "_model_name": "DescriptionStyleModel",
            "_view_count": null,
            "_view_module": "@jupyter-widgets/base",
            "_view_module_version": "1.2.0",
            "_view_name": "StyleView",
            "description_width": ""
          }
        },
        "d2d9a3dd6ca7471e864287519e52719e": {
          "model_module": "@jupyter-widgets/controls",
          "model_name": "HBoxModel",
          "model_module_version": "1.5.0",
          "state": {
            "_dom_classes": [],
            "_model_module": "@jupyter-widgets/controls",
            "_model_module_version": "1.5.0",
            "_model_name": "HBoxModel",
            "_view_count": null,
            "_view_module": "@jupyter-widgets/controls",
            "_view_module_version": "1.5.0",
            "_view_name": "HBoxView",
            "box_style": "",
            "children": [
              "IPY_MODEL_18f228f4929846a3a8501ec42332128c",
              "IPY_MODEL_5df7fcfca1d4413dbe6f0245eb8f02ce",
              "IPY_MODEL_f6620221700643e69218895c62bb6ad1"
            ],
            "layout": "IPY_MODEL_497fbbc460ff42d796f62bb50a80e4e9"
          }
        },
        "18f228f4929846a3a8501ec42332128c": {
          "model_module": "@jupyter-widgets/controls",
          "model_name": "HTMLModel",
          "model_module_version": "1.5.0",
          "state": {
            "_dom_classes": [],
            "_model_module": "@jupyter-widgets/controls",
            "_model_module_version": "1.5.0",
            "_model_name": "HTMLModel",
            "_view_count": null,
            "_view_module": "@jupyter-widgets/controls",
            "_view_module_version": "1.5.0",
            "_view_name": "HTMLView",
            "description": "",
            "description_tooltip": null,
            "layout": "IPY_MODEL_259973dbabbe48a399ea546a256fa0d7",
            "placeholder": "​",
            "style": "IPY_MODEL_3504af177fe048a29a9aced599a0d4ac",
            "value": "Downloading model.safetensors: 100%"
          }
        },
        "5df7fcfca1d4413dbe6f0245eb8f02ce": {
          "model_module": "@jupyter-widgets/controls",
          "model_name": "FloatProgressModel",
          "model_module_version": "1.5.0",
          "state": {
            "_dom_classes": [],
            "_model_module": "@jupyter-widgets/controls",
            "_model_module_version": "1.5.0",
            "_model_name": "FloatProgressModel",
            "_view_count": null,
            "_view_module": "@jupyter-widgets/controls",
            "_view_module_version": "1.5.0",
            "_view_name": "ProgressView",
            "bar_style": "success",
            "description": "",
            "description_tooltip": null,
            "layout": "IPY_MODEL_120a614854294612a7c0451e2a64adf4",
            "max": 1118459525,
            "min": 0,
            "orientation": "horizontal",
            "style": "IPY_MODEL_a9e7a9be576246aba2dd48c1a8d33803",
            "value": 1118459525
          }
        },
        "f6620221700643e69218895c62bb6ad1": {
          "model_module": "@jupyter-widgets/controls",
          "model_name": "HTMLModel",
          "model_module_version": "1.5.0",
          "state": {
            "_dom_classes": [],
            "_model_module": "@jupyter-widgets/controls",
            "_model_module_version": "1.5.0",
            "_model_name": "HTMLModel",
            "_view_count": null,
            "_view_module": "@jupyter-widgets/controls",
            "_view_module_version": "1.5.0",
            "_view_name": "HTMLView",
            "description": "",
            "description_tooltip": null,
            "layout": "IPY_MODEL_fde3ae92ed044c2797fe1d1b4744d619",
            "placeholder": "​",
            "style": "IPY_MODEL_2bec60dcc5784bc1b3e2c74d6fd3e60c",
            "value": " 1.12G/1.12G [00:12&lt;00:00, 116MB/s]"
          }
        },
        "497fbbc460ff42d796f62bb50a80e4e9": {
          "model_module": "@jupyter-widgets/base",
          "model_name": "LayoutModel",
          "model_module_version": "1.2.0",
          "state": {
            "_model_module": "@jupyter-widgets/base",
            "_model_module_version": "1.2.0",
            "_model_name": "LayoutModel",
            "_view_count": null,
            "_view_module": "@jupyter-widgets/base",
            "_view_module_version": "1.2.0",
            "_view_name": "LayoutView",
            "align_content": null,
            "align_items": null,
            "align_self": null,
            "border": null,
            "bottom": null,
            "display": null,
            "flex": null,
            "flex_flow": null,
            "grid_area": null,
            "grid_auto_columns": null,
            "grid_auto_flow": null,
            "grid_auto_rows": null,
            "grid_column": null,
            "grid_gap": null,
            "grid_row": null,
            "grid_template_areas": null,
            "grid_template_columns": null,
            "grid_template_rows": null,
            "height": null,
            "justify_content": null,
            "justify_items": null,
            "left": null,
            "margin": null,
            "max_height": null,
            "max_width": null,
            "min_height": null,
            "min_width": null,
            "object_fit": null,
            "object_position": null,
            "order": null,
            "overflow": null,
            "overflow_x": null,
            "overflow_y": null,
            "padding": null,
            "right": null,
            "top": null,
            "visibility": null,
            "width": null
          }
        },
        "259973dbabbe48a399ea546a256fa0d7": {
          "model_module": "@jupyter-widgets/base",
          "model_name": "LayoutModel",
          "model_module_version": "1.2.0",
          "state": {
            "_model_module": "@jupyter-widgets/base",
            "_model_module_version": "1.2.0",
            "_model_name": "LayoutModel",
            "_view_count": null,
            "_view_module": "@jupyter-widgets/base",
            "_view_module_version": "1.2.0",
            "_view_name": "LayoutView",
            "align_content": null,
            "align_items": null,
            "align_self": null,
            "border": null,
            "bottom": null,
            "display": null,
            "flex": null,
            "flex_flow": null,
            "grid_area": null,
            "grid_auto_columns": null,
            "grid_auto_flow": null,
            "grid_auto_rows": null,
            "grid_column": null,
            "grid_gap": null,
            "grid_row": null,
            "grid_template_areas": null,
            "grid_template_columns": null,
            "grid_template_rows": null,
            "height": null,
            "justify_content": null,
            "justify_items": null,
            "left": null,
            "margin": null,
            "max_height": null,
            "max_width": null,
            "min_height": null,
            "min_width": null,
            "object_fit": null,
            "object_position": null,
            "order": null,
            "overflow": null,
            "overflow_x": null,
            "overflow_y": null,
            "padding": null,
            "right": null,
            "top": null,
            "visibility": null,
            "width": null
          }
        },
        "3504af177fe048a29a9aced599a0d4ac": {
          "model_module": "@jupyter-widgets/controls",
          "model_name": "DescriptionStyleModel",
          "model_module_version": "1.5.0",
          "state": {
            "_model_module": "@jupyter-widgets/controls",
            "_model_module_version": "1.5.0",
            "_model_name": "DescriptionStyleModel",
            "_view_count": null,
            "_view_module": "@jupyter-widgets/base",
            "_view_module_version": "1.2.0",
            "_view_name": "StyleView",
            "description_width": ""
          }
        },
        "120a614854294612a7c0451e2a64adf4": {
          "model_module": "@jupyter-widgets/base",
          "model_name": "LayoutModel",
          "model_module_version": "1.2.0",
          "state": {
            "_model_module": "@jupyter-widgets/base",
            "_model_module_version": "1.2.0",
            "_model_name": "LayoutModel",
            "_view_count": null,
            "_view_module": "@jupyter-widgets/base",
            "_view_module_version": "1.2.0",
            "_view_name": "LayoutView",
            "align_content": null,
            "align_items": null,
            "align_self": null,
            "border": null,
            "bottom": null,
            "display": null,
            "flex": null,
            "flex_flow": null,
            "grid_area": null,
            "grid_auto_columns": null,
            "grid_auto_flow": null,
            "grid_auto_rows": null,
            "grid_column": null,
            "grid_gap": null,
            "grid_row": null,
            "grid_template_areas": null,
            "grid_template_columns": null,
            "grid_template_rows": null,
            "height": null,
            "justify_content": null,
            "justify_items": null,
            "left": null,
            "margin": null,
            "max_height": null,
            "max_width": null,
            "min_height": null,
            "min_width": null,
            "object_fit": null,
            "object_position": null,
            "order": null,
            "overflow": null,
            "overflow_x": null,
            "overflow_y": null,
            "padding": null,
            "right": null,
            "top": null,
            "visibility": null,
            "width": null
          }
        },
        "a9e7a9be576246aba2dd48c1a8d33803": {
          "model_module": "@jupyter-widgets/controls",
          "model_name": "ProgressStyleModel",
          "model_module_version": "1.5.0",
          "state": {
            "_model_module": "@jupyter-widgets/controls",
            "_model_module_version": "1.5.0",
            "_model_name": "ProgressStyleModel",
            "_view_count": null,
            "_view_module": "@jupyter-widgets/base",
            "_view_module_version": "1.2.0",
            "_view_name": "StyleView",
            "bar_color": null,
            "description_width": ""
          }
        },
        "fde3ae92ed044c2797fe1d1b4744d619": {
          "model_module": "@jupyter-widgets/base",
          "model_name": "LayoutModel",
          "model_module_version": "1.2.0",
          "state": {
            "_model_module": "@jupyter-widgets/base",
            "_model_module_version": "1.2.0",
            "_model_name": "LayoutModel",
            "_view_count": null,
            "_view_module": "@jupyter-widgets/base",
            "_view_module_version": "1.2.0",
            "_view_name": "LayoutView",
            "align_content": null,
            "align_items": null,
            "align_self": null,
            "border": null,
            "bottom": null,
            "display": null,
            "flex": null,
            "flex_flow": null,
            "grid_area": null,
            "grid_auto_columns": null,
            "grid_auto_flow": null,
            "grid_auto_rows": null,
            "grid_column": null,
            "grid_gap": null,
            "grid_row": null,
            "grid_template_areas": null,
            "grid_template_columns": null,
            "grid_template_rows": null,
            "height": null,
            "justify_content": null,
            "justify_items": null,
            "left": null,
            "margin": null,
            "max_height": null,
            "max_width": null,
            "min_height": null,
            "min_width": null,
            "object_fit": null,
            "object_position": null,
            "order": null,
            "overflow": null,
            "overflow_x": null,
            "overflow_y": null,
            "padding": null,
            "right": null,
            "top": null,
            "visibility": null,
            "width": null
          }
        },
        "2bec60dcc5784bc1b3e2c74d6fd3e60c": {
          "model_module": "@jupyter-widgets/controls",
          "model_name": "DescriptionStyleModel",
          "model_module_version": "1.5.0",
          "state": {
            "_model_module": "@jupyter-widgets/controls",
            "_model_module_version": "1.5.0",
            "_model_name": "DescriptionStyleModel",
            "_view_count": null,
            "_view_module": "@jupyter-widgets/base",
            "_view_module_version": "1.2.0",
            "_view_name": "StyleView",
            "description_width": ""
          }
        }
      }
    }
  },
  "cells": [
    {
      "cell_type": "markdown",
      "source": [
        "## Imports"
      ],
      "metadata": {
        "id": "K0Viw02D_piA"
      }
    },
    {
      "cell_type": "code",
      "source": [
        "!pip install jsonlines\n",
        "import json\n",
        "import tqdm\n",
        "import jsonlines\n",
        "from google.colab import drive\n",
        "drive.mount('/content/gdrive')\n",
        "COLAB_RUN = True\n",
        "if COLAB_RUN:\n",
        "  base_path = \"./gdrive/MyDrive/ChatGPT-RetrievalQA-private/\"\n",
        "  prompts_base_path = \"./gdrive/MyDrive/ChatGPT-RetrievalQA-private/prompts/\"\n",
        "  dataset_path = \"./gdrive/MyDrive/ChatGPT-RetrievalQA/\"\n",
        "else:\n",
        "  base_path = \"./\""
      ],
      "metadata": {
        "colab": {
          "base_uri": "https://localhost:8080/"
        },
        "id": "X14r2c-y_rkq",
        "outputId": "39b7851d-34a2-454c-cd2c-b485730330a8"
      },
      "execution_count": null,
      "outputs": [
        {
          "output_type": "stream",
          "name": "stdout",
          "text": [
            "Looking in indexes: https://pypi.org/simple, https://us-python.pkg.dev/colab-wheels/public/simple/\n",
            "Collecting jsonlines\n",
            "  Downloading jsonlines-3.1.0-py3-none-any.whl (8.6 kB)\n",
            "Requirement already satisfied: attrs>=19.2.0 in /usr/local/lib/python3.10/dist-packages (from jsonlines) (23.1.0)\n",
            "Installing collected packages: jsonlines\n",
            "Successfully installed jsonlines-3.1.0\n",
            "Mounted at /content/gdrive\n"
          ]
        }
      ]
    },
    {
      "cell_type": "markdown",
      "source": [
        "## Utils\n"
      ],
      "metadata": {
        "id": "76iDBJg_Ot9m"
      }
    },
    {
      "cell_type": "markdown",
      "source": [
        "### read collections"
      ],
      "metadata": {
        "id": "vFjBKFvtnaNG"
      }
    },
    {
      "cell_type": "code",
      "source": [
        "def read_collection(f_path):\n",
        "  corpus = {}\n",
        "  with open(f_path, \"r\") as fp:\n",
        "    for line in tqdm.tqdm(fp, desc=\"reading {}\".format(f_path)):\n",
        "      did, dtext = line.strip().split(\"\\t\")\n",
        "      corpus[did] = dtext\n",
        "  return corpus"
      ],
      "metadata": {
        "id": "clfEPg9TnbVY"
      },
      "execution_count": null,
      "outputs": []
    },
    {
      "cell_type": "markdown",
      "source": [
        "### normalize content function\n"
      ],
      "metadata": {
        "id": "Ddxuwiacjc4H"
      }
    },
    {
      "cell_type": "code",
      "source": [
        "def normalize_content(content):\n",
        "  return content.replace('\\r', '').replace('\\n', '').replace('\\t', ' ')"
      ],
      "metadata": {
        "id": "9jlzmv10jhGV"
      },
      "execution_count": null,
      "outputs": []
    },
    {
      "cell_type": "markdown",
      "source": [
        "### write to file function"
      ],
      "metadata": {
        "id": "IZVtHoHL8qfA"
      }
    },
    {
      "cell_type": "code",
      "source": [
        "def write_to_file(output_path, content):\n",
        "  f_w = open(output_path, \"w+\")\n",
        "  f_w.write(\"\".join(content))\n",
        "  f_w.close()"
      ],
      "metadata": {
        "id": "RoTvecrm8hRg"
      },
      "execution_count": null,
      "outputs": []
    },
    {
      "cell_type": "markdown",
      "source": [
        "## Load model"
      ],
      "metadata": {
        "id": "pt8Sgna4zvps"
      }
    },
    {
      "cell_type": "code",
      "source": [
        "!pip install transformers"
      ],
      "metadata": {
        "id": "m-JK4f0824o0",
        "colab": {
          "base_uri": "https://localhost:8080/"
        },
        "outputId": "00361102-5285-47a1-96a7-33253d80d222"
      },
      "execution_count": null,
      "outputs": [
        {
          "output_type": "stream",
          "name": "stdout",
          "text": [
            "Looking in indexes: https://pypi.org/simple, https://us-python.pkg.dev/colab-wheels/public/simple/\n",
            "Collecting transformers\n",
            "  Downloading transformers-4.30.2-py3-none-any.whl (7.2 MB)\n",
            "\u001b[2K     \u001b[90m━━━━━━━━━━━━━━━━━━━━━━━━━━━━━━━━━━━━━━━━\u001b[0m \u001b[32m7.2/7.2 MB\u001b[0m \u001b[31m46.8 MB/s\u001b[0m eta \u001b[36m0:00:00\u001b[0m\n",
            "\u001b[?25hRequirement already satisfied: filelock in /usr/local/lib/python3.10/dist-packages (from transformers) (3.12.0)\n",
            "Collecting huggingface-hub<1.0,>=0.14.1 (from transformers)\n",
            "  Downloading huggingface_hub-0.15.1-py3-none-any.whl (236 kB)\n",
            "\u001b[2K     \u001b[90m━━━━━━━━━━━━━━━━━━━━━━━━━━━━━━━━━━━━━━\u001b[0m \u001b[32m236.8/236.8 kB\u001b[0m \u001b[31m27.2 MB/s\u001b[0m eta \u001b[36m0:00:00\u001b[0m\n",
            "\u001b[?25hRequirement already satisfied: numpy>=1.17 in /usr/local/lib/python3.10/dist-packages (from transformers) (1.22.4)\n",
            "Requirement already satisfied: packaging>=20.0 in /usr/local/lib/python3.10/dist-packages (from transformers) (23.1)\n",
            "Requirement already satisfied: pyyaml>=5.1 in /usr/local/lib/python3.10/dist-packages (from transformers) (6.0)\n",
            "Requirement already satisfied: regex!=2019.12.17 in /usr/local/lib/python3.10/dist-packages (from transformers) (2022.10.31)\n",
            "Requirement already satisfied: requests in /usr/local/lib/python3.10/dist-packages (from transformers) (2.27.1)\n",
            "Collecting tokenizers!=0.11.3,<0.14,>=0.11.1 (from transformers)\n",
            "  Downloading tokenizers-0.13.3-cp310-cp310-manylinux_2_17_x86_64.manylinux2014_x86_64.whl (7.8 MB)\n",
            "\u001b[2K     \u001b[90m━━━━━━━━━━━━━━━━━━━━━━━━━━━━━━━━━━━━━━━━\u001b[0m \u001b[32m7.8/7.8 MB\u001b[0m \u001b[31m87.2 MB/s\u001b[0m eta \u001b[36m0:00:00\u001b[0m\n",
            "\u001b[?25hCollecting safetensors>=0.3.1 (from transformers)\n",
            "  Downloading safetensors-0.3.1-cp310-cp310-manylinux_2_17_x86_64.manylinux2014_x86_64.whl (1.3 MB)\n",
            "\u001b[2K     \u001b[90m━━━━━━━━━━━━━━━━━━━━━━━━━━━━━━━━━━━━━━━━\u001b[0m \u001b[32m1.3/1.3 MB\u001b[0m \u001b[31m58.3 MB/s\u001b[0m eta \u001b[36m0:00:00\u001b[0m\n",
            "\u001b[?25hRequirement already satisfied: tqdm>=4.27 in /usr/local/lib/python3.10/dist-packages (from transformers) (4.65.0)\n",
            "Requirement already satisfied: fsspec in /usr/local/lib/python3.10/dist-packages (from huggingface-hub<1.0,>=0.14.1->transformers) (2023.4.0)\n",
            "Requirement already satisfied: typing-extensions>=3.7.4.3 in /usr/local/lib/python3.10/dist-packages (from huggingface-hub<1.0,>=0.14.1->transformers) (4.5.0)\n",
            "Requirement already satisfied: urllib3<1.27,>=1.21.1 in /usr/local/lib/python3.10/dist-packages (from requests->transformers) (1.26.15)\n",
            "Requirement already satisfied: certifi>=2017.4.17 in /usr/local/lib/python3.10/dist-packages (from requests->transformers) (2022.12.7)\n",
            "Requirement already satisfied: charset-normalizer~=2.0.0 in /usr/local/lib/python3.10/dist-packages (from requests->transformers) (2.0.12)\n",
            "Requirement already satisfied: idna<4,>=2.5 in /usr/local/lib/python3.10/dist-packages (from requests->transformers) (3.4)\n",
            "Installing collected packages: tokenizers, safetensors, huggingface-hub, transformers\n",
            "Successfully installed huggingface-hub-0.15.1 safetensors-0.3.1 tokenizers-0.13.3 transformers-4.30.2\n"
          ]
        }
      ]
    },
    {
      "cell_type": "code",
      "source": [
        "import os\n",
        "from transformers import AutoTokenizer, AutoModelForCausalLM\n",
        "os.environ[\"HF_ENDPOINT\"] = \"https://huggingface.co\"\n",
        "tokenizer = AutoTokenizer.from_pretrained(\"bigscience/bloom-560m\")\n",
        "model = AutoModelForCausalLM.from_pretrained(\"bigscience/bloom-560m\").to(\"cuda\")"
      ],
      "metadata": {
        "id": "P_iSJS1dzxJU",
        "colab": {
          "base_uri": "https://localhost:8080/",
          "height": 177,
          "referenced_widgets": [
            "aa4763a9250c4266b6dc8f41046ad113",
            "b7d5e3b7eb054aaaafb9aacf65e90756",
            "a05ddd339731428b8cf78967ad7b0ba1",
            "8e81bdc8de084687a65f50aaac045aee",
            "dcc009ab58cb468e8778067e378bd4f7",
            "7a06d3cc9e0042dca8e2a4527cc1d829",
            "b5eea6db338141d0a921e40a2d196397",
            "c344b32f3a0b49699b800ffb80fcf98e",
            "a997077b79a946ac9ff0df6e490f4826",
            "850731b50cdb478298003e8baf8a28c5",
            "9b449e1621e0404d8ccd0ae938e7fc6d",
            "02937d77ae4f496c843c0cee94c3cf6d",
            "006d485e25f54444bda93570560f65cc",
            "07e4ccb1c0bd4ffe9b7106b0e801335e",
            "854158a0505a421380903a87f010e255",
            "502d69e63b9048769d7b386c0ee9bbd6",
            "4a210fc0f7ff45f8ab79454216b70e1a",
            "2208221ad4e4473bb478be3d2538ec1b",
            "dcb1d4409e024db7a9f9b904409bad71",
            "ffa72ff731a9423392a48b96a918dc56",
            "a77afa520742465fa2c63b8f6a0c82af",
            "6bd070b97f8f41a09a3d27c0ffadebcf",
            "95b4b2bb8db941d98abe3eefdd94b3cf",
            "793f2c8a06e64de384c5ac8a164e57ee",
            "49b7bf1eed274f41901f438d996d8650",
            "b4010166edad422286e8c5e9ff537f5c",
            "390e40b746234192a06690fee444f1c3",
            "4800dff32dc2442ea1ea40d330645b1e",
            "77f15e787cf04fea9e15f575183218bc",
            "f06ea40ff6834d509bcfaaf9e7dea935",
            "242f237a53574c40b2b2f2ae76266141",
            "24fca9bb6ec14d79ae078ecb04a91e62",
            "f7a5f020b7154c1bb97d258a1efd4370",
            "d01c4ed790c945ca9d1390a8586dcf11",
            "96023f652dac4606869cb854f8a58545",
            "844f75aa8b634091aef11e23351de552",
            "2cec3dc1284248b5957d4116c45fe52d",
            "ce61b68ed67f4c2782de2881e0c8d09c",
            "ca2946e7c8b84193a440b667a8c0e550",
            "4a06ab4c25db4ec5bb79b051a75d61fd",
            "eff1d3548d9649a38dccfa3090bf1b8f",
            "4074852bd1b344f1bfcfcffa5aaf90c7",
            "df3e3ce01d4145418c8cc0497bd282e2",
            "0585f997a9ef4c689fd35a4ead06cdf0",
            "d2d9a3dd6ca7471e864287519e52719e",
            "18f228f4929846a3a8501ec42332128c",
            "5df7fcfca1d4413dbe6f0245eb8f02ce",
            "f6620221700643e69218895c62bb6ad1",
            "497fbbc460ff42d796f62bb50a80e4e9",
            "259973dbabbe48a399ea546a256fa0d7",
            "3504af177fe048a29a9aced599a0d4ac",
            "120a614854294612a7c0451e2a64adf4",
            "a9e7a9be576246aba2dd48c1a8d33803",
            "fde3ae92ed044c2797fe1d1b4744d619",
            "2bec60dcc5784bc1b3e2c74d6fd3e60c"
          ]
        },
        "outputId": "513f16a0-af45-468a-8b6e-648476b3ba03"
      },
      "execution_count": null,
      "outputs": [
        {
          "output_type": "display_data",
          "data": {
            "text/plain": [
              "Downloading (…)okenizer_config.json:   0%|          | 0.00/222 [00:00<?, ?B/s]"
            ],
            "application/vnd.jupyter.widget-view+json": {
              "version_major": 2,
              "version_minor": 0,
              "model_id": "aa4763a9250c4266b6dc8f41046ad113"
            }
          },
          "metadata": {}
        },
        {
          "output_type": "display_data",
          "data": {
            "text/plain": [
              "Downloading tokenizer.json:   0%|          | 0.00/14.5M [00:00<?, ?B/s]"
            ],
            "application/vnd.jupyter.widget-view+json": {
              "version_major": 2,
              "version_minor": 0,
              "model_id": "02937d77ae4f496c843c0cee94c3cf6d"
            }
          },
          "metadata": {}
        },
        {
          "output_type": "display_data",
          "data": {
            "text/plain": [
              "Downloading (…)cial_tokens_map.json:   0%|          | 0.00/85.0 [00:00<?, ?B/s]"
            ],
            "application/vnd.jupyter.widget-view+json": {
              "version_major": 2,
              "version_minor": 0,
              "model_id": "95b4b2bb8db941d98abe3eefdd94b3cf"
            }
          },
          "metadata": {}
        },
        {
          "output_type": "display_data",
          "data": {
            "text/plain": [
              "Downloading (…)lve/main/config.json:   0%|          | 0.00/693 [00:00<?, ?B/s]"
            ],
            "application/vnd.jupyter.widget-view+json": {
              "version_major": 2,
              "version_minor": 0,
              "model_id": "d01c4ed790c945ca9d1390a8586dcf11"
            }
          },
          "metadata": {}
        },
        {
          "output_type": "display_data",
          "data": {
            "text/plain": [
              "Downloading model.safetensors:   0%|          | 0.00/1.12G [00:00<?, ?B/s]"
            ],
            "application/vnd.jupyter.widget-view+json": {
              "version_major": 2,
              "version_minor": 0,
              "model_id": "d2d9a3dd6ca7471e864287519e52719e"
            }
          },
          "metadata": {}
        }
      ]
    },
    {
      "cell_type": "markdown",
      "source": [
        "# Prompt template class"
      ],
      "metadata": {
        "id": "Whvnj46dx9xD"
      }
    },
    {
      "cell_type": "code",
      "source": [
        "class PromptTemplate:\n",
        "  def __init__(self, model, tokenizer, template= \"{}\", prefix= \"\", max_new_tokens = 200, edit_output = False):\n",
        "    self.model = model\n",
        "    self.tokenizer = tokenizer\n",
        "    self.template = template\n",
        "    self.prefix = prefix\n",
        "    self.max_new_tokens = max_new_tokens\n",
        "    self.edit_output = edit_output\n",
        "  # loading the template from the file. The template can be passes as string too.\n",
        "  def load_template(self, tempalte_path):\n",
        "    try:\n",
        "      self.template = open(tempalte_path, \"r\").read()\n",
        "    except Exception as e:\n",
        "      pass\n",
        "    try:\n",
        "      self.template = open(tempalte_path, \"r\").read()\n",
        "    except Exception as e:\n",
        "      print(\"error: \", e)\n",
        "  # main function to generate the text.\n",
        "  def generate_text(self):\n",
        "      return \"Implement this function on children classes :)\"\n",
        "  # Checking some rules before generating the text\n",
        "  def check_rules(self, input_str):\n",
        "    return True\n",
        "  # pick the infromation from the ouput of the model. It is especially needed for autoregressive models. For seq2seq models you will only get the text and the select_information do not need to be overrided\n",
        "  def select_information(self, output_str):\n",
        "    return output_str\n",
        "  # generate text basic function with a list of prompts arguments\n",
        "  def generate_text_basic(self, prompt_arg):\n",
        "    if type(prompt_arg) == str:\n",
        "      prompt_arg = [prompt_arg]\n",
        "    template = self.prefix + self.template.format(*prompt_arg)\n",
        "    tokens = tokenizer(template, return_tensors=\"pt\").to(0)\n",
        "    outputs = model.generate(input_ids=tokens[\"input_ids\"], attention_mask=tokens[\"attention_mask\"], max_new_tokens = self.max_new_tokens, eos_token_id= tokenizer.eos_token_id, pad_token_id = tokenizer.pad_token_id)\n",
        "    str_output = tokenizer.decode(outputs[0], skip_special_tokens=False)\n",
        "    return str_output"
      ],
      "metadata": {
        "id": "q1Qk3HXWyR8W"
      },
      "execution_count": null,
      "outputs": []
    },
    {
      "cell_type": "markdown",
      "source": [
        "# 📶 Explanding query\n"
      ],
      "metadata": {
        "id": "lke9BxQfueAY"
      }
    },
    {
      "cell_type": "markdown",
      "source": [
        "## Class"
      ],
      "metadata": {
        "id": "9NkxJn-G09vi"
      }
    },
    {
      "cell_type": "code",
      "source": [
        "class ExpandingQuery(PromptTemplate):\n",
        "  def __init__(self, *args, **kwargs):\n",
        "    super(ExpandingQuery, self).__init__(*args, **kwargs)\n",
        "  # query with more than 10 words won't be expanded\n",
        "  def check_rules(self, input_str):\n",
        "    long_query_words = 10\n",
        "    long_query_chars = 10 * 4.7\n",
        "    if len(input_str)> long_query_chars:\n",
        "      return False # query with more than 10 words is lengthy enough and we do not expand it :) we consider a query with more than 10 words as a long query inspired by: https://trec.nist.gov/pubs/trec30/papers/Overview-DL.pdf, section 2, paragraph 2.\n",
        "  def select_information(self, str_output):\n",
        "    # select = \"Example 4:\\n\" + str_output.split(\"Example 4:\\n\")[1]#.split(\"Query Expanded:\")[1].split(\"\\n\")[0]\n",
        "    select = str_output\n",
        "    return select\n",
        "  def generate_text(self, query):\n",
        "    status = False\n",
        "    if self.check_rules(query) == False:\n",
        "      return (query, status) # if nothing happens because of the rules, then return false to show we return original content.\n",
        "    str_output = super(ExpandingQuery, self).generate_text_basic(query)\n",
        "    return (self.select_information(str_output).strip(), True) # True is status! it means we really expanded the query!"
      ],
      "metadata": {
        "id": "32BVy3ibx7Tz"
      },
      "execution_count": null,
      "outputs": []
    },
    {
      "cell_type": "markdown",
      "source": [
        "#Demo token highlighting impact\n",
        "\n"
      ],
      "metadata": {
        "id": "Up43ueNdiB4o"
      }
    },
    {
      "cell_type": "markdown",
      "source": [
        "## highlighting token: []"
      ],
      "metadata": {
        "id": "_vAPQsphRr55"
      }
    },
    {
      "cell_type": "code",
      "source": [
        "query_expander = ExpandingQuery(model, tokenizer)\n",
        "query_expander.template = \"\"\"Generate \"Relevant Document\" based on the \"Query\". The \"Relevant Document\" must provide meaningful information according to the \"Query\". The terms within [] are \"Highlighted\" terms of the \"Query\".\n",
        "\n",
        "Query: What is the recommended amount of [caffeine] intake during [pregnancy], and are there any potential risks associated with consuming small amounts of [caffeine] while [pregnant]?\n",
        "Relevant Document: We don't know a lot about the effects of caffeine during pregnancy on you and your baby. So it's best to limit the amount you get each day. If you are pregnant, limit caffeine to 200 milligrams each day. This is about the amount in 1½ 8-ounce cups of coffee or one 12-ounce cup of coffee.\n",
        "\n",
        "Example 2:\n",
        "Query: Which [fruit] is exclusive to [Australia] and provide some additional details about it?\n",
        "Relevant Document: Passiflora herbertiana. A rare passion fruit native to Australia. Fruits are green-skinned, white fleshed, with an unknown edible rating. Some sources list the fruit as edible, sweet and tasty, while others list the fruits as being bitter and inedible.assiflora herbertiana. A rare passion fruit native to Australia. Fruits are green-skinned, white fleshed, with an unknown edible rating. Some sources list the fruit as edible, sweet and tasty, while others list the fruits as being bitter and inedible.\n",
        "\n",
        "Example 3:\n",
        "Query: What is the size of the [canadian military] ahd what is the number of active personnel and reserve members?\n",
        "Relevant Document: The Canadian Armed Forces. 1  The first large-scale Canadian peacekeeping mission started in Egypt on November 24, 1956. 2  There are approximately 65,000 Regular Force and 25,000 reservist members in the Canadian military. 3  In Canada, August 9 is designated as National Peacekeepers' Day.\n",
        "\n",
        "Example 4:\n",
        "Query: What is the [conversion] of [stereo signal] to [mono signal]?\n",
        "Relevant Document:\"\"\"\n",
        "generated_text, status = query_expander.generate_text(\"\")\n",
        "print(\"generated_text: \", generated_text)"
      ],
      "metadata": {
        "colab": {
          "base_uri": "https://localhost:8080/"
        },
        "id": "U6uwuQshiKsp",
        "outputId": "f313c1ec-fd94-48ad-cc6a-8470f22368f1"
      },
      "execution_count": null,
      "outputs": [
        {
          "output_type": "stream",
          "name": "stdout",
          "text": [
            "generated_text:  Generate \"Relevant Document\" based on the \"Query\". The \"Relevant Document\" must provide meaningful information according to the \"Query\". The terms within [] are \"Highlighted\" terms of the \"Query\".\n",
            "\n",
            "Query: What is the recommended amount of [caffeine] intake during [pregnancy], and are there any potential risks associated with consuming small amounts of [caffeine] while [pregnant]?\n",
            "Relevant Document: We don't know a lot about the effects of caffeine during pregnancy on you and your baby. So it's best to limit the amount you get each day. If you are pregnant, limit caffeine to 200 milligrams each day. This is about the amount in 1½ 8-ounce cups of coffee or one 12-ounce cup of coffee.\n",
            "\n",
            "Example 2:\n",
            "Query: Which [fruit] is exclusive to [Australia] and provide some additional details about it?\n",
            "Relevant Document: Passiflora herbertiana. A rare passion fruit native to Australia. Fruits are green-skinned, white fleshed, with an unknown edible rating. Some sources list the fruit as edible, sweet and tasty, while others list the fruits as being bitter and inedible.assiflora herbertiana. A rare passion fruit native to Australia. Fruits are green-skinned, white fleshed, with an unknown edible rating. Some sources list the fruit as edible, sweet and tasty, while others list the fruits as being bitter and inedible.\n",
            "\n",
            "Example 3:\n",
            "Query: What is the size of the [canadian military] ahd what is the number of active personnel and reserve members?\n",
            "Relevant Document: The Canadian Armed Forces. 1  The first large-scale Canadian peacekeeping mission started in Egypt on November 24, 1956. 2  There are approximately 65,000 Regular Force and 25,000 reservist members in the Canadian military. 3  In Canada, August 9 is designated as National Peacekeepers' Day.\n",
            "\n",
            "Example 4:\n",
            "Query: What is the [conversion] of [stereo signal] to [mono signal]?\n",
            "Relevant Document: The [conversion] of [stereo signal] to [mono signal] is a process that converts a signal from a digital to a analog signal. The signal is then converted back to digital. The signal is then converted back to analog. The signal is then converted back to digital. The signal is then converted back to analog. The signal is then converted back to digital. The signal is then converted back to analog. The signal is then converted back to digital. The signal is then converted back to analog. The signal is then converted back to digital. The signal is then converted back to analog. The signal is then converted back to digital. The signal is then converted back to analog. The signal is then converted back to digital. The signal is then converted back to digital. The signal is then converted back to analog. The signal is then converted back to digital. The signal is then converted back to digital. The signal is then converted back to analog. The signal is then converted\n"
          ]
        }
      ]
    },
    {
      "cell_type": "markdown",
      "source": [
        "## highlighting token: *\n"
      ],
      "metadata": {
        "id": "wy0gtp02RvRP"
      }
    },
    {
      "cell_type": "code",
      "source": [
        "query_expander = ExpandingQuery(model, tokenizer)\n",
        "query_expander.template = \"\"\"Generate \"Relevant Document\" based on the \"Query\". The \"Relevant Document\" must provide meaningful information according to the \"Query\". The terms within ** are \"Highlighted\" terms of the \"Query\".\n",
        "\n",
        "Query: What is the recommended amount of *caffeine* intake during *pregnancy*, and are there any potential risks associated with consuming small amounts of *caffeine* while *pregnant*?\n",
        "Relevant Document: We don't know a lot about the effects of caffeine during pregnancy on you and your baby. So it's best to limit the amount you get each day. If you are pregnant, limit caffeine to 200 milligrams each day. This is about the amount in 1½ 8-ounce cups of coffee or one 12-ounce cup of coffee.\n",
        "\n",
        "Example 2:\n",
        "Query: Which *fruit* is exclusive to *Australia* and provide some additional details about it?\n",
        "Relevant Document: Passiflora herbertiana. A rare passion fruit native to Australia. Fruits are green-skinned, white fleshed, with an unknown edible rating. Some sources list the fruit as edible, sweet and tasty, while others list the fruits as being bitter and inedible.assiflora herbertiana. A rare passion fruit native to Australia. Fruits are green-skinned, white fleshed, with an unknown edible rating. Some sources list the fruit as edible, sweet and tasty, while others list the fruits as being bitter and inedible.\n",
        "\n",
        "Example 3:\n",
        "Query: What is the size of the *canadian military* ahd what is the number of active personnel and reserve members?\n",
        "Relevant Document: The Canadian Armed Forces. 1  The first large-scale Canadian peacekeeping mission started in Egypt on November 24, 1956. 2  There are approximately 65,000 Regular Force and 25,000 reservist members in the Canadian military. 3  In Canada, August 9 is designated as National Peacekeepers' Day.\n",
        "\n",
        "Example 4:\n",
        "Query: What is the *conversion* of *stereo signal* to *mono signal*?\n",
        "Relevant Document:\"\"\"\n",
        "generated_text, status = query_expander.generate_text(\"\")\n",
        "print(\"generated_text: \", generated_text)"
      ],
      "metadata": {
        "colab": {
          "base_uri": "https://localhost:8080/"
        },
        "id": "Nn3OhE0biDL6",
        "outputId": "cf026705-2c47-42a7-9329-7165adc55bad"
      },
      "execution_count": null,
      "outputs": [
        {
          "output_type": "stream",
          "name": "stdout",
          "text": [
            "generated_text:  Generate \"Relevant Document\" based on the \"Query\". The \"Relevant Document\" must provide meaningful information according to the \"Query\". The terms within ** are \"Highlighted\" terms of the \"Query\".\n",
            "\n",
            "Query: What is the recommended amount of *caffeine* intake during *pregnancy*, and are there any potential risks associated with consuming small amounts of *caffeine* while *pregnant*?\n",
            "Relevant Document: We don't know a lot about the effects of caffeine during pregnancy on you and your baby. So it's best to limit the amount you get each day. If you are pregnant, limit caffeine to 200 milligrams each day. This is about the amount in 1½ 8-ounce cups of coffee or one 12-ounce cup of coffee.\n",
            "\n",
            "Example 2:\n",
            "Query: Which *fruit* is exclusive to *Australia* and provide some additional details about it?\n",
            "Relevant Document: Passiflora herbertiana. A rare passion fruit native to Australia. Fruits are green-skinned, white fleshed, with an unknown edible rating. Some sources list the fruit as edible, sweet and tasty, while others list the fruits as being bitter and inedible.assiflora herbertiana. A rare passion fruit native to Australia. Fruits are green-skinned, white fleshed, with an unknown edible rating. Some sources list the fruit as edible, sweet and tasty, while others list the fruits as being bitter and inedible.\n",
            "\n",
            "Example 3:\n",
            "Query: What is the size of the *canadian military* ahd what is the number of active personnel and reserve members?\n",
            "Relevant Document: The Canadian Armed Forces. 1  The first large-scale Canadian peacekeeping mission started in Egypt on November 24, 1956. 2  There are approximately 65,000 Regular Force and 25,000 reservist members in the Canadian military. 3  In Canada, August 9 is designated as National Peacekeepers' Day.\n",
            "\n",
            "Example 4:\n",
            "Query: What is the *conversion* of *stereo signal* to *mono signal*?\n",
            "Relevant Document: The *mono signal* is a signal that is used to transmit information from a transmitter to a receiver. The *mono signal* is a signal that is used to transmit information from a transmitter to a receiver. The *mono signal* is a signal that is used to transmit information from a transmitter to a receiver. The *mono signal* is a signal that is used to transmit information from a transmitter to a receiver. The *mono signal* is a signal that is used to transmit information from a transmitter to a receiver. The *mono signal* is a signal that is used to transmit information from a transmitter to a receiver. The *mono signal* is a signal that is used to transmit information from a transmitter to a receiver. The *mono signal* is a signal that is used to transmit information from a transmitter to a receiver. The *mono signal* is a signal that is used to transmit information from a transmitter to a receiver. The *\n"
          ]
        }
      ]
    },
    {
      "cell_type": "markdown",
      "source": [
        "## highlighting token: <>"
      ],
      "metadata": {
        "id": "m89mi9rrRxcB"
      }
    },
    {
      "cell_type": "markdown",
      "source": [
        "## highlighting token: ()"
      ],
      "metadata": {
        "id": "r5eOrhwWRzD0"
      }
    },
    {
      "cell_type": "code",
      "source": [
        "query_expander = ExpandingQuery(model, tokenizer)\n",
        "query_expander.template = \"\"\"Generate \"Relevant Document\" based on the \"Query\". The \"Relevant Document\" must provide meaningful information according to the \"Query\". The terms within <> are \"Highlighted\" terms of the \"Query\".\n",
        "\n",
        "Query: What is the recommended amount of <caffeine> intake during <pregnancy>, and are there any potential risks associated with consuming small amounts of <caffeine> while <pregnant>?\n",
        "Relevant Document: We don't know a lot about the effects of caffeine during pregnancy on you and your baby. So it's best to limit the amount you get each day. If you are pregnant, limit caffeine to 200 milligrams each day. This is about the amount in 1½ 8-ounce cups of coffee or one 12-ounce cup of coffee.\n",
        "\n",
        "Example 2:\n",
        "Query: Which <fruit> is exclusive to <Australia> and provide some additional details about it?\n",
        "Relevant Document: Passiflora herbertiana. A rare passion fruit native to Australia. Fruits are green-skinned, white fleshed, with an unknown edible rating. Some sources list the fruit as edible, sweet and tasty, while others list the fruits as being bitter and inedible.assiflora herbertiana. A rare passion fruit native to Australia. Fruits are green-skinned, white fleshed, with an unknown edible rating. Some sources list the fruit as edible, sweet and tasty, while others list the fruits as being bitter and inedible.\n",
        "\n",
        "Example 3:\n",
        "Query: What is the size of the <canadian military> ahd what is the number of active personnel and reserve members?\n",
        "Relevant Document: The Canadian Armed Forces. 1  The first large-scale Canadian peacekeeping mission started in Egypt on November 24, 1956. 2  There are approximately 65,000 Regular Force and 25,000 reservist members in the Canadian military. 3  In Canada, August 9 is designated as National Peacekeepers' Day.\n",
        "\n",
        "Example 4:\n",
        "Query: What is the <conversion> of <stereo signal> to <mono signal>?\n",
        "Relevant Document:\"\"\"\n",
        "generated_text, status = query_expander.generate_text(\"\")\n",
        "print(\"generated_text: \", generated_text)"
      ],
      "metadata": {
        "colab": {
          "base_uri": "https://localhost:8080/"
        },
        "id": "3EwaXZD2irrF",
        "outputId": "63448ccf-5481-4745-cd3e-a39dc10d79a8"
      },
      "execution_count": null,
      "outputs": [
        {
          "output_type": "stream",
          "name": "stdout",
          "text": [
            "generated_text:  Generate \"Relevant Document\" based on the \"Query\". The \"Relevant Document\" must provide meaningful information according to the \"Query\". The terms within <> are \"Highlighted\" terms of the \"Query\".\n",
            "\n",
            "Query: What is the recommended amount of <caffeine> intake during <pregnancy>, and are there any potential risks associated with consuming small amounts of <caffeine> while <pregnant>?\n",
            "Relevant Document: We don't know a lot about the effects of caffeine during pregnancy on you and your baby. So it's best to limit the amount you get each day. If you are pregnant, limit caffeine to 200 milligrams each day. This is about the amount in 1½ 8-ounce cups of coffee or one 12-ounce cup of coffee.\n",
            "\n",
            "Example 2:\n",
            "Query: Which <fruit> is exclusive to <Australia> and provide some additional details about it?\n",
            "Relevant Document: Passiflora herbertiana. A rare passion fruit native to Australia. Fruits are green-skinned, white fleshed, with an unknown edible rating. Some sources list the fruit as edible, sweet and tasty, while others list the fruits as being bitter and inedible.assiflora herbertiana. A rare passion fruit native to Australia. Fruits are green-skinned, white fleshed, with an unknown edible rating. Some sources list the fruit as edible, sweet and tasty, while others list the fruits as being bitter and inedible.\n",
            "\n",
            "Example 3:\n",
            "Query: What is the size of the <canadian military> ahd what is the number of active personnel and reserve members?\n",
            "Relevant Document: The Canadian Armed Forces. 1  The first large-scale Canadian peacekeeping mission started in Egypt on November 24, 1956. 2  There are approximately 65,000 Regular Force and 25,000 reservist members in the Canadian military. 3  In Canada, August 9 is designated as National Peacekeepers' Day.\n",
            "\n",
            "Example 4:\n",
            "Query: What is the <conversion> of <stereo signal> to <mono signal>?\n",
            "Relevant Document: The stereo signal is a signal that is produced by a stereo mixer. The mono signal is a signal that is produced by a mono mixer. The stereo signal is a signal that is produced by a stereo mixer. The stereo signal is a signal that is produced by a stereo mixer. The stereo signal is a signal that is produced by a stereo mixer. The stereo signal is a signal that is produced by a stereo mixer. The stereo signal is a signal that is produced by a stereo mixer. The stereo signal is a signal that is produced by a stereo mixer. The stereo signal is a signal that is produced by a stereo mixer. The stereo signal is a signal that is produced by a stereo mixer. The stereo signal is a signal that is produced by a stereo mixer. The stereo signal is a signal that is produced by a stereo mixer. The stereo signal is a signal that is produced by a stereo mixer. The stereo signal is a signal that is produced by a stereo mixer. The stereo signal is\n"
          ]
        }
      ]
    },
    {
      "cell_type": "markdown",
      "source": [
        "## highlighting token: ()"
      ],
      "metadata": {
        "id": "1NaNxIrfR08S"
      }
    },
    {
      "cell_type": "code",
      "source": [
        "query_expander = ExpandingQuery(model, tokenizer)\n",
        "query_expander.template = \"\"\"Generate \"Relevant Document\" based on the \"Query\". The \"Relevant Document\" must provide meaningful information according to the \"Query\". The terms within () are \"Highlighted\" terms of the \"Query\".\n",
        "\n",
        "Query: What is the recommended amount of (caffeine) intake during (pregnancy), and are there any potential risks associated with consuming small amounts of (caffeine) while (pregnant)?\n",
        "Relevant Document: We don't know a lot about the effects of caffeine during pregnancy on you and your baby. So it's best to limit the amount you get each day. If you are pregnant, limit caffeine to 200 milligrams each day. This is about the amount in 1½ 8-ounce cups of coffee or one 12-ounce cup of coffee.\n",
        "\n",
        "Example 2:\n",
        "Query: Which (fruit) is exclusive to (Australia) and provide some additional details about it?\n",
        "Relevant Document: Passiflora herbertiana. A rare passion fruit native to Australia. Fruits are green-skinned, white fleshed, with an unknown edible rating. Some sources list the fruit as edible, sweet and tasty, while others list the fruits as being bitter and inedible.assiflora herbertiana. A rare passion fruit native to Australia. Fruits are green-skinned, white fleshed, with an unknown edible rating. Some sources list the fruit as edible, sweet and tasty, while others list the fruits as being bitter and inedible.\n",
        "\n",
        "Example 3:\n",
        "Query: What is the size of the (canadian military) ahd what is the number of active personnel and reserve members?\n",
        "Relevant Document: The Canadian Armed Forces. 1  The first large-scale Canadian peacekeeping mission started in Egypt on November 24, 1956. 2  There are approximately 65,000 Regular Force and 25,000 reservist members in the Canadian military. 3  In Canada, August 9 is designated as National Peacekeepers' Day.\n",
        "\n",
        "Example 4:\n",
        "Query: What is the (conversion) of (stereo signal) to (mono signal)?\n",
        "Relevant Document:\"\"\"\n",
        "generated_text, status = query_expander.generate_text(\"\")\n",
        "print(\"generated_text: \", generated_text)"
      ],
      "metadata": {
        "colab": {
          "base_uri": "https://localhost:8080/"
        },
        "id": "Emdm4ZgnjLPm",
        "outputId": "6332de6a-fa98-475b-efed-533a98402fcb"
      },
      "execution_count": null,
      "outputs": [
        {
          "output_type": "stream",
          "name": "stdout",
          "text": [
            "generated_text:  Generate \"Relevant Document\" based on the \"Query\". The \"Relevant Document\" must provide meaningful information according to the \"Query\". The terms within () are \"Highlighted\" terms of the \"Query\".\n",
            "\n",
            "Query: What is the recommended amount of (caffeine) intake during (pregnancy), and are there any potential risks associated with consuming small amounts of (caffeine) while (pregnant)?\n",
            "Relevant Document: We don't know a lot about the effects of caffeine during pregnancy on you and your baby. So it's best to limit the amount you get each day. If you are pregnant, limit caffeine to 200 milligrams each day. This is about the amount in 1½ 8-ounce cups of coffee or one 12-ounce cup of coffee.\n",
            "\n",
            "Example 2:\n",
            "Query: Which (fruit) is exclusive to (Australia) and provide some additional details about it?\n",
            "Relevant Document: Passiflora herbertiana. A rare passion fruit native to Australia. Fruits are green-skinned, white fleshed, with an unknown edible rating. Some sources list the fruit as edible, sweet and tasty, while others list the fruits as being bitter and inedible.assiflora herbertiana. A rare passion fruit native to Australia. Fruits are green-skinned, white fleshed, with an unknown edible rating. Some sources list the fruit as edible, sweet and tasty, while others list the fruits as being bitter and inedible.\n",
            "\n",
            "Example 3:\n",
            "Query: What is the size of the (canadian military) ahd what is the number of active personnel and reserve members?\n",
            "Relevant Document: The Canadian Armed Forces. 1  The first large-scale Canadian peacekeeping mission started in Egypt on November 24, 1956. 2  There are approximately 65,000 Regular Force and 25,000 reservist members in the Canadian military. 3  In Canada, August 9 is designated as National Peacekeepers' Day.\n",
            "\n",
            "Example 4:\n",
            "Query: What is the (conversion) of (stereo signal) to (mono signal)?\n",
            "Relevant Document: The (conversion) of (stereo signal) to (mono signal) is a process that converts a signal from a digital to a analog signal. The process is called digital to analog conversion. The process is called digital to analog conversion. The process is called digital to analog conversion. The process is called digital to analog conversion. The process is called digital to analog conversion. The process is called digital to analog conversion. The process is called digital to analog conversion. The process is called digital to analog conversion. The process is called digital to analog conversion. The process is called digital to analog conversion. The process is called digital to analog conversion. The process is called digital to analog conversion. The process is called digital to analog conversion. The process is called digital to analog conversion. The process is called digital to analog conversion. The process is called digital to analog conversion. The process is called digital to analog conversion. The process is called digital to analog conversion. The process is called digital\n"
          ]
        }
      ]
    },
    {
      "cell_type": "markdown",
      "source": [
        "## W/o highlighting"
      ],
      "metadata": {
        "id": "KfSBd0Ez0-sf"
      }
    },
    {
      "cell_type": "code",
      "source": [
        "query_expander = ExpandingQuery(model, tokenizer)\n",
        "query_expander.template = \"\"\"Expand the query but do not change the main question.\n",
        "\n",
        "Example 1:\n",
        "Query: Is a little caffeine ok during pregnancy?\n",
        "Query Expanded: What is the recommended amount of caffeine intake during pregnancy, and are there any potential risks associated with consuming small amounts of caffeine while pregnant?\n",
        "\n",
        "Example 2:\n",
        "Query: What fruit is native to Australia?\n",
        "Query Expanded: Which fruit is exclusive to Australia and provide some additional details about it?\n",
        "\n",
        "Example 3:\n",
        "Query: How large is the canadian military?\n",
        "Query Expanded: What is the size of the canadian military ahd what is the number of active personnel and reserve members?\n",
        "\n",
        "Example 4:\n",
        "Query: converting stereo signal to mono signal is called\n",
        "Query Expanded:\"\"\"\n",
        "generated_text, status = query_expander.generate_text(\"\")\n",
        "print(\"generated_text: \", generated_text)"
      ],
      "metadata": {
        "colab": {
          "base_uri": "https://localhost:8080/"
        },
        "id": "PBkHUcV40rI1",
        "outputId": "39b71d3c-8428-4f01-b785-9f7322091893"
      },
      "execution_count": null,
      "outputs": [
        {
          "output_type": "stream",
          "name": "stdout",
          "text": [
            "generated_text:  Expand the query but do not change the main question.\n",
            "\n",
            "Example 1:\n",
            "Query: Is a little caffeine ok during pregnancy?\n",
            "Query Expanded: What is the recommended amount of caffeine intake during pregnancy, and are there any potential risks associated with consuming small amounts of caffeine while pregnant?\n",
            "\n",
            "Example 2:\n",
            "Query: What fruit is native to Australia?\n",
            "Query Expanded: Which fruit is exclusive to Australia and provide some additional details about it?\n",
            "\n",
            "Example 3:\n",
            "Query: How large is the canadian military?\n",
            "Query Expanded: What is the size of the canadian military ahd what is the number of active personnel and reserve members?\n",
            "\n",
            "Example 4:\n",
            "Query: converting stereo signal to mono signal is called\n",
            "Query Expanded: What is the conversion of stereo signal to mono signal?\n",
            "Query Expanded: What is the conversion of stereo signal to mono signal?\n",
            "Query Expanded: What is the conversion of stereo signal to mono signal?\n",
            "Query Expanded: What is the conversion of stereo signal to mono signal?\n",
            "Query Expanded: What is the conversion of stereo signal to mono signal?\n",
            "Query Expanded: What is the conversion of stereo signal to mono signal?\n",
            "Query Expanded: What is the conversion of stereo signal to mono signal?\n",
            "Query Expanded: What is the conversion of stereo signal to mono signal?\n",
            "Query Expanded: What is the conversion of stereo signal to mono signal?\n",
            "Query Expanded: What is the conversion of stereo signal to mono signal?\n",
            "Query Expanded: What is the conversion of stereo signal to mono signal?\n",
            "Query Expanded: What is the conversion of stereo signal to mono signal?\n",
            "Query Expanded: What is the conversion of stereo signal to mono signal?\n",
            "Query Expanded: What is the conversion of\n"
          ]
        }
      ]
    }
  ]
}